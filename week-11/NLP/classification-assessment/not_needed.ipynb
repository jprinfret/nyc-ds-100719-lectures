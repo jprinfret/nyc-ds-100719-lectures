{
 "cells": [
  {
   "cell_type": "code",
   "execution_count": null,
   "metadata": {},
   "outputs": [],
   "source": [
    "wordlist = list(drama_words + comedy_words\n",
    "               + horror_words + action_words\n",
    "               + thriller_words + romance_words\n",
    "               + western_words + adventure_words\n",
    "               + crime_words)"
   ]
  },
  {
   "cell_type": "code",
   "execution_count": null,
   "metadata": {},
   "outputs": [],
   "source": [
    "wordlist_df = pd.DataFrame(wordlist, columns = ['words'])\n",
    "wordlist = wordlist_df.drop_duplicates().words.tolist()"
   ]
  },
  {
   "cell_type": "code",
   "execution_count": null,
   "metadata": {},
   "outputs": [],
   "source": [
    "len(wordlist)"
   ]
  },
  {
   "cell_type": "code",
   "execution_count": null,
   "metadata": {},
   "outputs": [],
   "source": [
    "final_columns = []\n",
    "for word in wordlist:\n",
    "    column = df['plot'].apply(lambda x: column_creator(x, word))\n",
    "    final_columns.append(column)"
   ]
  },
  {
   "cell_type": "code",
   "execution_count": null,
   "metadata": {},
   "outputs": [],
   "source": [
    "for column in final_columns:\n",
    "    X = hstack((X, column[:, None]))"
   ]
  },
  {
   "cell_type": "code",
   "execution_count": null,
   "metadata": {},
   "outputs": [],
   "source": [
    "drama_words = matrix.sort_values(by = ['drama'], ascending = False).head(100).index.tolist()\n",
    "comedy_words = matrix.sort_values(by = ['comedy'], ascending = False).head(100).index.tolist()\n",
    "horror_words = matrix.sort_values(by = ['horror'], ascending = False).head(100).index.tolist()\n",
    "action_words = matrix.sort_values(by = ['action'], ascending = False).head(100).index.tolist()\n",
    "thriller_words = matrix.sort_values(by = ['thriller'], ascending = False).head(100).index.tolist()\n",
    "romance_words = matrix.sort_values(by = ['romance'], ascending = False).head(100).index.tolist()\n",
    "western_words = matrix.sort_values(by = ['western'], ascending = False).head(100).index.tolist()\n",
    "adventure_words = matrix.sort_values(by = ['adventure'], ascending = False).head(100).index.tolist()\n",
    "crime_words = matrix.sort_values(by = ['crime'], ascending = False).head(100).index.tolist()"
   ]
  },
  {
   "cell_type": "code",
   "execution_count": null,
   "metadata": {},
   "outputs": [],
   "source": [
    "matrix = pd.DataFrame(z.T.todense(), index = tfidf_vector.get_feature_names(), columns=list(genre.keys()))\n",
    "matrix"
   ]
  },
  {
   "cell_type": "code",
   "execution_count": null,
   "metadata": {},
   "outputs": [],
   "source": [
    "tfidf_vector = TfidfVectorizer()\n",
    "\n",
    "z = tfidf_vector.fit_transform(df_genre['plot'])\n",
    "z.shape"
   ]
  },
  {
   "cell_type": "code",
   "execution_count": null,
   "metadata": {},
   "outputs": [],
   "source": []
  },
  {
   "cell_type": "code",
   "execution_count": null,
   "metadata": {},
   "outputs": [],
   "source": []
  },
  {
   "cell_type": "code",
   "execution_count": null,
   "metadata": {},
   "outputs": [],
   "source": []
  },
  {
   "cell_type": "code",
   "execution_count": null,
   "metadata": {},
   "outputs": [],
   "source": []
  },
  {
   "cell_type": "code",
   "execution_count": null,
   "metadata": {},
   "outputs": [],
   "source": []
  },
  {
   "cell_type": "code",
   "execution_count": null,
   "metadata": {},
   "outputs": [],
   "source": []
  },
  {
   "cell_type": "code",
   "execution_count": null,
   "metadata": {},
   "outputs": [],
   "source": []
  },
  {
   "cell_type": "code",
   "execution_count": null,
   "metadata": {},
   "outputs": [],
   "source": []
  },
  {
   "cell_type": "code",
   "execution_count": null,
   "metadata": {},
   "outputs": [],
   "source": []
  },
  {
   "cell_type": "code",
   "execution_count": null,
   "metadata": {},
   "outputs": [],
   "source": []
  }
 ],
 "metadata": {
  "kernelspec": {
   "display_name": "Python 3",
   "language": "python",
   "name": "python3"
  },
  "language_info": {
   "codemirror_mode": {
    "name": "ipython",
    "version": 3
   },
   "file_extension": ".py",
   "mimetype": "text/x-python",
   "name": "python",
   "nbconvert_exporter": "python",
   "pygments_lexer": "ipython3",
   "version": "3.7.3"
  }
 },
 "nbformat": 4,
 "nbformat_minor": 2
}
