{
 "cells": [
  {
   "cell_type": "code",
   "execution_count": 64,
   "metadata": {},
   "outputs": [],
   "source": [
    "import pandas as pd\n",
    "import matplotlib.pyplot as plt\n",
    "import numpy as np\n",
    "%matplotlib inline"
   ]
  },
  {
   "cell_type": "code",
   "execution_count": 65,
   "metadata": {},
   "outputs": [
    {
     "name": "stderr",
     "output_type": "stream",
     "text": [
      "/Users/JacquesPierre/anaconda3/lib/python3.7/site-packages/IPython/core/interactiveshell.py:3058: DtypeWarning: Columns (171) have mixed types. Specify dtype option on import or set low_memory=False.\n",
      "  interactivity=interactivity, compiler=compiler, result=result)\n"
     ]
    }
   ],
   "source": [
    "#Load our dataframe account for the index columns\n",
    "df = pd.read_csv('case_study.csv', index_col = 0)"
   ]
  },
  {
   "cell_type": "code",
   "execution_count": 66,
   "metadata": {},
   "outputs": [
    {
     "data": {
      "text/plain": [
       "(34545, 358)"
      ]
     },
     "execution_count": 66,
     "metadata": {},
     "output_type": "execute_result"
    }
   ],
   "source": [
    "# Quickly check to see the size of our DF, both rows and columns\n",
    "df.shape"
   ]
  },
  {
   "cell_type": "markdown",
   "metadata": {},
   "source": [
    "## Subset your dataframe to only include the states in the tri-state area (NJ, CT, NY)"
   ]
  },
  {
   "cell_type": "markdown",
   "metadata": {},
   "source": [
    "Now check to see how large our subset df."
   ]
  },
  {
   "cell_type": "markdown",
   "metadata": {},
   "source": [
    "**PHYSHLTH** is the column we are interested in for this analysis, so let's start to investigate the column. Since we have a data cookbook, a.k.a. data dictionary) we want to start there before looking at the code. "
   ]
  },
  {
   "cell_type": "code",
   "execution_count": 67,
   "metadata": {},
   "outputs": [
    {
     "data": {
      "text/plain": [
       "count    34545.000000\n",
       "mean        60.213403\n",
       "std         37.504566\n",
       "min          1.000000\n",
       "25%         15.000000\n",
       "50%         88.000000\n",
       "75%         88.000000\n",
       "max         99.000000\n",
       "Name: PHYSHLTH, dtype: float64"
      ]
     },
     "execution_count": 67,
     "metadata": {},
     "output_type": "execute_result"
    }
   ],
   "source": [
    "df['PHYSHLTH'].describe()"
   ]
  },
  {
   "cell_type": "markdown",
   "metadata": {},
   "source": [
    "## 1. Handle the non-normal values\n",
    "\n",
    "As you can see from the data dictionary, there are a number of responses that are coded with values that could throw off our descriptive statistics.  Let's clean up by mapping the responses to a more appropriate value, and handling any missing values.  "
   ]
  },
  {
   "cell_type": "code",
   "execution_count": 68,
   "metadata": {},
   "outputs": [],
   "source": [
    "#your code here\n",
    "\n",
    "zero_dict = {88:0,\n",
    "             77: np.nan,\n",
    "             99: np.nan}\n",
    "\n",
    "df['PHYSHLTH'] = df['PHYSHLTH'].replace(zero_dict)"
   ]
  },
  {
   "cell_type": "markdown",
   "metadata": {},
   "source": [
    "## 2. Generate the descriptive statistics\n",
    "\n",
    "Now that our target variable is cleaned up lets calculate the descriptive statistics, generate a graph that quickly shows those statistics, and generate a gprah shows the histogram of the data."
   ]
  },
  {
   "cell_type": "code",
   "execution_count": 69,
   "metadata": {
    "scrolled": false
   },
   "outputs": [
    {
     "data": {
      "text/plain": [
       "count    33747.000000\n",
       "mean         4.085341\n",
       "std          8.513293\n",
       "min          0.000000\n",
       "25%          0.000000\n",
       "50%          0.000000\n",
       "75%          3.000000\n",
       "max         30.000000\n",
       "Name: PHYSHLTH, dtype: float64"
      ]
     },
     "execution_count": 69,
     "metadata": {},
     "output_type": "execute_result"
    }
   ],
   "source": [
    "#descriptive statistics\n",
    "df['PHYSHLTH'].describe()"
   ]
  },
  {
   "cell_type": "code",
   "execution_count": 70,
   "metadata": {
    "scrolled": true
   },
   "outputs": [
    {
     "data": {
      "image/png": "[encoded data removed]",
      "text/plain": [
       "<Figure size 432x288 with 1 Axes>"
      ]
     },
     "metadata": {
      "needs_background": "light"
     },
     "output_type": "display_data"
    }
   ],
   "source": [
    "# graphic showing those descriptive stats\n",
    "df['PHYSHLTH'].plot(kind='box',title='Descriptive Stats');"
   ]
  },
  {
   "cell_type": "code",
   "execution_count": 71,
   "metadata": {},
   "outputs": [
    {
     "data": {
      "image/png": "[encoded data removed]",
      "text/plain": [
       "<Figure size 432x288 with 1 Axes>"
      ]
     },
     "metadata": {
      "needs_background": "light"
     },
     "output_type": "display_data"
    }
   ],
   "source": [
    "#graphic showing the distribution of data\n",
    "df['PHYSHLTH'].plot(title='Distribution',kind='hist', bins=6, xticks=(0,5,10,15,20,25,30) ,xlim=(0,30));"
   ]
  },
  {
   "cell_type": "markdown",
   "metadata": {},
   "source": [
    "## 3. Generate a graphic that compares the average number of sick days for each state. "
   ]
  },
  {
   "cell_type": "code",
   "execution_count": 72,
   "metadata": {},
   "outputs": [
    {
     "data": {
      "text/html": [
       "<div>\n",
       "<style scoped>\n",
       "    .dataframe tbody tr th:only-of-type {\n",
       "        vertical-align: middle;\n",
       "    }\n",
       "\n",
       "    .dataframe tbody tr th {\n",
       "        vertical-align: top;\n",
       "    }\n",
       "\n",
       "    .dataframe thead th {\n",
       "        text-align: right;\n",
       "    }\n",
       "</style>\n",
       "<table border=\"1\" class=\"dataframe\">\n",
       "  <thead>\n",
       "    <tr style=\"text-align: right;\">\n",
       "      <th></th>\n",
       "      <th>PHYSHLTH</th>\n",
       "    </tr>\n",
       "    <tr>\n",
       "      <th>_STATE</th>\n",
       "      <th></th>\n",
       "    </tr>\n",
       "  </thead>\n",
       "  <tbody>\n",
       "    <tr>\n",
       "      <td>9.0</td>\n",
       "      <td>3.688562</td>\n",
       "    </tr>\n",
       "    <tr>\n",
       "      <td>34.0</td>\n",
       "      <td>4.380957</td>\n",
       "    </tr>\n",
       "    <tr>\n",
       "      <td>36.0</td>\n",
       "      <td>4.148030</td>\n",
       "    </tr>\n",
       "  </tbody>\n",
       "</table>\n",
       "</div>"
      ],
      "text/plain": [
       "        PHYSHLTH\n",
       "_STATE          \n",
       "9.0     3.688562\n",
       "34.0    4.380957\n",
       "36.0    4.148030"
      ]
     },
     "execution_count": 72,
     "metadata": {},
     "output_type": "execute_result"
    }
   ],
   "source": [
    "# code to calculate the average number of sick days by state\n",
    "sick_days = pd.DataFrame(df.groupby('_STATE')['PHYSHLTH'].agg('mean'))\n",
    "sick_days"
   ]
  },
  {
   "cell_type": "code",
   "execution_count": 73,
   "metadata": {},
   "outputs": [
    {
     "data": {
      "image/png": "[encoded data removed]",
      "text/plain": [
       "<Figure size 432x288 with 1 Axes>"
      ]
     },
     "metadata": {
      "needs_background": "light"
     },
     "output_type": "display_data"
    }
   ],
   "source": [
    "# code to graph those averages using matplotlib\n",
    "sick_days.plot(kind='bar');"
   ]
  },
  {
   "cell_type": "markdown",
   "metadata": {},
   "source": [
    "## 4. Turn the number of sick days into a classification of of chronically sick people.  \n",
    "\n",
    "Chronically sick people account for a significant proportion of the costs for health insurers. If we can identify what leads people to be chronically sick, we can address them with specific treatments.\n",
    "\n"
   ]
  },
  {
   "cell_type": "code",
   "execution_count": 84,
   "metadata": {},
   "outputs": [
    {
     "data": {
      "text/html": [
       "<div>\n",
       "<style scoped>\n",
       "    .dataframe tbody tr th:only-of-type {\n",
       "        vertical-align: middle;\n",
       "    }\n",
       "\n",
       "    .dataframe tbody tr th {\n",
       "        vertical-align: top;\n",
       "    }\n",
       "\n",
       "    .dataframe thead th {\n",
       "        text-align: right;\n",
       "    }\n",
       "</style>\n",
       "<table border=\"1\" class=\"dataframe\">\n",
       "  <thead>\n",
       "    <tr style=\"text-align: right;\">\n",
       "      <th></th>\n",
       "      <th>_STATE</th>\n",
       "      <th>FMONTH</th>\n",
       "      <th>IDATE</th>\n",
       "      <th>IMONTH</th>\n",
       "      <th>IDAY</th>\n",
       "      <th>IYEAR</th>\n",
       "      <th>DISPCODE</th>\n",
       "      <th>SEQNO</th>\n",
       "      <th>_PSU</th>\n",
       "      <th>CTELENM1</th>\n",
       "      <th>...</th>\n",
       "      <th>_PA30021</th>\n",
       "      <th>_PASTRNG</th>\n",
       "      <th>_PAREC1</th>\n",
       "      <th>_PASTAE1</th>\n",
       "      <th>_RFSEAT2</th>\n",
       "      <th>_RFSEAT3</th>\n",
       "      <th>_FLSHOT6</th>\n",
       "      <th>_PNEUMO2</th>\n",
       "      <th>_AIDTST3</th>\n",
       "      <th>Chronically Sick</th>\n",
       "    </tr>\n",
       "  </thead>\n",
       "  <tbody>\n",
       "    <tr>\n",
       "      <td>49938</td>\n",
       "      <td>9.0</td>\n",
       "      <td>5.0</td>\n",
       "      <td>5172017</td>\n",
       "      <td>5</td>\n",
       "      <td>17</td>\n",
       "      <td>2017</td>\n",
       "      <td>1200.0</td>\n",
       "      <td>2017000001</td>\n",
       "      <td>2.017000e+09</td>\n",
       "      <td>NaN</td>\n",
       "      <td>...</td>\n",
       "      <td>2.0</td>\n",
       "      <td>2.0</td>\n",
       "      <td>4.0</td>\n",
       "      <td>2.0</td>\n",
       "      <td>1.0</td>\n",
       "      <td>1.0</td>\n",
       "      <td>NaN</td>\n",
       "      <td>NaN</td>\n",
       "      <td>1.0</td>\n",
       "      <td>0</td>\n",
       "    </tr>\n",
       "    <tr>\n",
       "      <td>49939</td>\n",
       "      <td>9.0</td>\n",
       "      <td>2.0</td>\n",
       "      <td>2142017</td>\n",
       "      <td>2</td>\n",
       "      <td>14</td>\n",
       "      <td>2017</td>\n",
       "      <td>1200.0</td>\n",
       "      <td>2017000002</td>\n",
       "      <td>2.017000e+09</td>\n",
       "      <td>NaN</td>\n",
       "      <td>...</td>\n",
       "      <td>1.0</td>\n",
       "      <td>1.0</td>\n",
       "      <td>1.0</td>\n",
       "      <td>1.0</td>\n",
       "      <td>2.0</td>\n",
       "      <td>2.0</td>\n",
       "      <td>NaN</td>\n",
       "      <td>NaN</td>\n",
       "      <td>2.0</td>\n",
       "      <td>0</td>\n",
       "    </tr>\n",
       "    <tr>\n",
       "      <td>49940</td>\n",
       "      <td>9.0</td>\n",
       "      <td>1.0</td>\n",
       "      <td>1292017</td>\n",
       "      <td>1</td>\n",
       "      <td>29</td>\n",
       "      <td>2017</td>\n",
       "      <td>1200.0</td>\n",
       "      <td>2017000003</td>\n",
       "      <td>2.017000e+09</td>\n",
       "      <td>NaN</td>\n",
       "      <td>...</td>\n",
       "      <td>2.0</td>\n",
       "      <td>1.0</td>\n",
       "      <td>3.0</td>\n",
       "      <td>2.0</td>\n",
       "      <td>1.0</td>\n",
       "      <td>1.0</td>\n",
       "      <td>NaN</td>\n",
       "      <td>NaN</td>\n",
       "      <td>2.0</td>\n",
       "      <td>0</td>\n",
       "    </tr>\n",
       "    <tr>\n",
       "      <td>49941</td>\n",
       "      <td>9.0</td>\n",
       "      <td>7.0</td>\n",
       "      <td>9112017</td>\n",
       "      <td>9</td>\n",
       "      <td>11</td>\n",
       "      <td>2017</td>\n",
       "      <td>1200.0</td>\n",
       "      <td>2017000004</td>\n",
       "      <td>2.017000e+09</td>\n",
       "      <td>NaN</td>\n",
       "      <td>...</td>\n",
       "      <td>2.0</td>\n",
       "      <td>2.0</td>\n",
       "      <td>2.0</td>\n",
       "      <td>2.0</td>\n",
       "      <td>1.0</td>\n",
       "      <td>1.0</td>\n",
       "      <td>NaN</td>\n",
       "      <td>NaN</td>\n",
       "      <td>1.0</td>\n",
       "      <td>0</td>\n",
       "    </tr>\n",
       "    <tr>\n",
       "      <td>49942</td>\n",
       "      <td>9.0</td>\n",
       "      <td>5.0</td>\n",
       "      <td>7182017</td>\n",
       "      <td>7</td>\n",
       "      <td>18</td>\n",
       "      <td>2017</td>\n",
       "      <td>1200.0</td>\n",
       "      <td>2017000005</td>\n",
       "      <td>2.017000e+09</td>\n",
       "      <td>NaN</td>\n",
       "      <td>...</td>\n",
       "      <td>2.0</td>\n",
       "      <td>1.0</td>\n",
       "      <td>1.0</td>\n",
       "      <td>1.0</td>\n",
       "      <td>1.0</td>\n",
       "      <td>1.0</td>\n",
       "      <td>NaN</td>\n",
       "      <td>NaN</td>\n",
       "      <td>2.0</td>\n",
       "      <td>0</td>\n",
       "    </tr>\n",
       "    <tr>\n",
       "      <td>...</td>\n",
       "      <td>...</td>\n",
       "      <td>...</td>\n",
       "      <td>...</td>\n",
       "      <td>...</td>\n",
       "      <td>...</td>\n",
       "      <td>...</td>\n",
       "      <td>...</td>\n",
       "      <td>...</td>\n",
       "      <td>...</td>\n",
       "      <td>...</td>\n",
       "      <td>...</td>\n",
       "      <td>...</td>\n",
       "      <td>...</td>\n",
       "      <td>...</td>\n",
       "      <td>...</td>\n",
       "      <td>...</td>\n",
       "      <td>...</td>\n",
       "      <td>...</td>\n",
       "      <td>...</td>\n",
       "      <td>...</td>\n",
       "      <td>...</td>\n",
       "    </tr>\n",
       "    <tr>\n",
       "      <td>303774</td>\n",
       "      <td>36.0</td>\n",
       "      <td>5.0</td>\n",
       "      <td>5152017</td>\n",
       "      <td>5</td>\n",
       "      <td>15</td>\n",
       "      <td>2017</td>\n",
       "      <td>1200.0</td>\n",
       "      <td>2017012245</td>\n",
       "      <td>2.017012e+09</td>\n",
       "      <td>NaN</td>\n",
       "      <td>...</td>\n",
       "      <td>2.0</td>\n",
       "      <td>2.0</td>\n",
       "      <td>4.0</td>\n",
       "      <td>2.0</td>\n",
       "      <td>1.0</td>\n",
       "      <td>1.0</td>\n",
       "      <td>NaN</td>\n",
       "      <td>NaN</td>\n",
       "      <td>1.0</td>\n",
       "      <td>0</td>\n",
       "    </tr>\n",
       "    <tr>\n",
       "      <td>303775</td>\n",
       "      <td>36.0</td>\n",
       "      <td>6.0</td>\n",
       "      <td>6252017</td>\n",
       "      <td>6</td>\n",
       "      <td>25</td>\n",
       "      <td>2017</td>\n",
       "      <td>1200.0</td>\n",
       "      <td>2017012246</td>\n",
       "      <td>2.017012e+09</td>\n",
       "      <td>NaN</td>\n",
       "      <td>...</td>\n",
       "      <td>2.0</td>\n",
       "      <td>2.0</td>\n",
       "      <td>4.0</td>\n",
       "      <td>2.0</td>\n",
       "      <td>1.0</td>\n",
       "      <td>1.0</td>\n",
       "      <td>NaN</td>\n",
       "      <td>NaN</td>\n",
       "      <td>1.0</td>\n",
       "      <td>0</td>\n",
       "    </tr>\n",
       "    <tr>\n",
       "      <td>303776</td>\n",
       "      <td>36.0</td>\n",
       "      <td>7.0</td>\n",
       "      <td>7212017</td>\n",
       "      <td>7</td>\n",
       "      <td>21</td>\n",
       "      <td>2017</td>\n",
       "      <td>1200.0</td>\n",
       "      <td>2017012247</td>\n",
       "      <td>2.017012e+09</td>\n",
       "      <td>NaN</td>\n",
       "      <td>...</td>\n",
       "      <td>2.0</td>\n",
       "      <td>2.0</td>\n",
       "      <td>4.0</td>\n",
       "      <td>2.0</td>\n",
       "      <td>1.0</td>\n",
       "      <td>1.0</td>\n",
       "      <td>NaN</td>\n",
       "      <td>NaN</td>\n",
       "      <td>1.0</td>\n",
       "      <td>0</td>\n",
       "    </tr>\n",
       "    <tr>\n",
       "      <td>303777</td>\n",
       "      <td>36.0</td>\n",
       "      <td>7.0</td>\n",
       "      <td>7202017</td>\n",
       "      <td>7</td>\n",
       "      <td>20</td>\n",
       "      <td>2017</td>\n",
       "      <td>1200.0</td>\n",
       "      <td>2017012248</td>\n",
       "      <td>2.017012e+09</td>\n",
       "      <td>NaN</td>\n",
       "      <td>...</td>\n",
       "      <td>9.0</td>\n",
       "      <td>9.0</td>\n",
       "      <td>9.0</td>\n",
       "      <td>9.0</td>\n",
       "      <td>9.0</td>\n",
       "      <td>9.0</td>\n",
       "      <td>9.0</td>\n",
       "      <td>9.0</td>\n",
       "      <td>9.0</td>\n",
       "      <td>0</td>\n",
       "    </tr>\n",
       "    <tr>\n",
       "      <td>303778</td>\n",
       "      <td>36.0</td>\n",
       "      <td>7.0</td>\n",
       "      <td>7252017</td>\n",
       "      <td>7</td>\n",
       "      <td>25</td>\n",
       "      <td>2017</td>\n",
       "      <td>1200.0</td>\n",
       "      <td>2017012249</td>\n",
       "      <td>2.017012e+09</td>\n",
       "      <td>NaN</td>\n",
       "      <td>...</td>\n",
       "      <td>2.0</td>\n",
       "      <td>2.0</td>\n",
       "      <td>4.0</td>\n",
       "      <td>2.0</td>\n",
       "      <td>1.0</td>\n",
       "      <td>1.0</td>\n",
       "      <td>NaN</td>\n",
       "      <td>NaN</td>\n",
       "      <td>1.0</td>\n",
       "      <td>0</td>\n",
       "    </tr>\n",
       "  </tbody>\n",
       "</table>\n",
       "<p>34545 rows × 359 columns</p>\n",
       "</div>"
      ],
      "text/plain": [
       "        _STATE  FMONTH    IDATE  IMONTH  IDAY  IYEAR  DISPCODE       SEQNO  \\\n",
       "49938      9.0     5.0  5172017       5    17   2017    1200.0  2017000001   \n",
       "49939      9.0     2.0  2142017       2    14   2017    1200.0  2017000002   \n",
       "49940      9.0     1.0  1292017       1    29   2017    1200.0  2017000003   \n",
       "49941      9.0     7.0  9112017       9    11   2017    1200.0  2017000004   \n",
       "49942      9.0     5.0  7182017       7    18   2017    1200.0  2017000005   \n",
       "...        ...     ...      ...     ...   ...    ...       ...         ...   \n",
       "303774    36.0     5.0  5152017       5    15   2017    1200.0  2017012245   \n",
       "303775    36.0     6.0  6252017       6    25   2017    1200.0  2017012246   \n",
       "303776    36.0     7.0  7212017       7    21   2017    1200.0  2017012247   \n",
       "303777    36.0     7.0  7202017       7    20   2017    1200.0  2017012248   \n",
       "303778    36.0     7.0  7252017       7    25   2017    1200.0  2017012249   \n",
       "\n",
       "                _PSU  CTELENM1  ...  _PA30021  _PASTRNG  _PAREC1  _PASTAE1  \\\n",
       "49938   2.017000e+09       NaN  ...       2.0       2.0      4.0       2.0   \n",
       "49939   2.017000e+09       NaN  ...       1.0       1.0      1.0       1.0   \n",
       "49940   2.017000e+09       NaN  ...       2.0       1.0      3.0       2.0   \n",
       "49941   2.017000e+09       NaN  ...       2.0       2.0      2.0       2.0   \n",
       "49942   2.017000e+09       NaN  ...       2.0       1.0      1.0       1.0   \n",
       "...              ...       ...  ...       ...       ...      ...       ...   \n",
       "303774  2.017012e+09       NaN  ...       2.0       2.0      4.0       2.0   \n",
       "303775  2.017012e+09       NaN  ...       2.0       2.0      4.0       2.0   \n",
       "303776  2.017012e+09       NaN  ...       2.0       2.0      4.0       2.0   \n",
       "303777  2.017012e+09       NaN  ...       9.0       9.0      9.0       9.0   \n",
       "303778  2.017012e+09       NaN  ...       2.0       2.0      4.0       2.0   \n",
       "\n",
       "        _RFSEAT2  _RFSEAT3  _FLSHOT6  _PNEUMO2  _AIDTST3  Chronically Sick  \n",
       "49938        1.0       1.0       NaN       NaN       1.0                 0  \n",
       "49939        2.0       2.0       NaN       NaN       2.0                 0  \n",
       "49940        1.0       1.0       NaN       NaN       2.0                 0  \n",
       "49941        1.0       1.0       NaN       NaN       1.0                 0  \n",
       "49942        1.0       1.0       NaN       NaN       2.0                 0  \n",
       "...          ...       ...       ...       ...       ...               ...  \n",
       "303774       1.0       1.0       NaN       NaN       1.0                 0  \n",
       "303775       1.0       1.0       NaN       NaN       1.0                 0  \n",
       "303776       1.0       1.0       NaN       NaN       1.0                 0  \n",
       "303777       9.0       9.0       9.0       9.0       9.0                 0  \n",
       "303778       1.0       1.0       NaN       NaN       1.0                 0  \n",
       "\n",
       "[34545 rows x 359 columns]"
      ]
     },
     "execution_count": 84,
     "metadata": {},
     "output_type": "execute_result"
    }
   ],
   "source": [
    "# code to create new colum for chronically sick\n",
    "df['Chronically Sick'] = 0\n",
    "def is_Chronic(df):\n",
    "    if df['PHYSHLTH'] > 10:\n",
    "        return 1\n",
    "    else:\n",
    "        return 0\n",
    "df['Chronically Sick'] = df.apply(is_Chronic, axis=1)\n",
    "df"
   ]
  },
  {
   "cell_type": "markdown",
   "metadata": {},
   "source": [
    "## 5. Create a graphic that compares the percentage of people labeled as 'sick' in each state. "
   ]
  },
  {
   "cell_type": "code",
   "execution_count": 88,
   "metadata": {},
   "outputs": [
    {
     "data": {
      "text/html": [
       "<div>\n",
       "<style scoped>\n",
       "    .dataframe tbody tr th:only-of-type {\n",
       "        vertical-align: middle;\n",
       "    }\n",
       "\n",
       "    .dataframe tbody tr th {\n",
       "        vertical-align: top;\n",
       "    }\n",
       "\n",
       "    .dataframe thead th {\n",
       "        text-align: right;\n",
       "    }\n",
       "</style>\n",
       "<table border=\"1\" class=\"dataframe\">\n",
       "  <thead>\n",
       "    <tr style=\"text-align: right;\">\n",
       "      <th></th>\n",
       "      <th>Chronically Sick</th>\n",
       "    </tr>\n",
       "    <tr>\n",
       "      <th>_STATE</th>\n",
       "      <th></th>\n",
       "    </tr>\n",
       "  </thead>\n",
       "  <tbody>\n",
       "    <tr>\n",
       "      <td>9.0</td>\n",
       "      <td>0.112864</td>\n",
       "    </tr>\n",
       "    <tr>\n",
       "      <td>34.0</td>\n",
       "      <td>0.136317</td>\n",
       "    </tr>\n",
       "    <tr>\n",
       "      <td>36.0</td>\n",
       "      <td>0.125316</td>\n",
       "    </tr>\n",
       "  </tbody>\n",
       "</table>\n",
       "</div>"
      ],
      "text/plain": [
       "        Chronically Sick\n",
       "_STATE                  \n",
       "9.0             0.112864\n",
       "34.0            0.136317\n",
       "36.0            0.125316"
      ]
     },
     "execution_count": 88,
     "metadata": {},
     "output_type": "execute_result"
    }
   ],
   "source": [
    "# code to calculate averages per state\n",
    "chronSick_ppl = pd.DataFrame(df.groupby('_STATE')['Chronically Sick'].agg('mean'))\n",
    "chronSick_ppl"
   ]
  },
  {
   "cell_type": "code",
   "execution_count": 89,
   "metadata": {},
   "outputs": [
    {
     "data": {
      "image/png": "[encoded data removed]",
      "text/plain": [
       "<Figure size 432x288 with 1 Axes>"
      ]
     },
     "metadata": {
      "needs_background": "light"
     },
     "output_type": "display_data"
    }
   ],
   "source": [
    "# create graphic to compare chronically sick by state\n",
    "chronSick_ppl.plot(kind='bar');"
   ]
  },
  {
   "cell_type": "markdown",
   "metadata": {},
   "source": [
    "## 6. Independent Variables (categorical)\n",
    "\n",
    "Let's take the column `SMOKDAY2` and start to prepare it so that we can see how it is possibly correlated to `PHYSHLTH`.\n",
    "\n",
    "1. Clean up the values.\n",
    "2. Calculate the descriptive statistics of the variable.\n",
    "3. Generate a histogram for the variable.\n",
    "4. Generate graphics that show how the responses to this variable might differ by state.\n",
    "5. Generate a graphic that compares the physical health of the different groups of 'smokers'."
   ]
  },
  {
   "cell_type": "markdown",
   "metadata": {},
   "source": [
    "## 7. Independent Variables (continuous):\n",
    "\n",
    "Now let's look at a continuous variable (ALCDAY5) and see how that might impact a person's health. \n",
    "\n",
    "1. Clean up the values.\n",
    "2. Calculate the descriptive statistics of the variable.\n",
    "3. Generate a histogram for the variable.\n",
    "4. Generate graphics that show how the responses to this variable might differ by state.\n",
    "5. Calculate the correlation coefficient between `PHYSHLTH` and `ALCDAY5`.\n",
    "5. Generate a graphic that shows the possible relationship between `PHYSHLTH` and `ALCDAY5`."
   ]
  },
  {
   "cell_type": "markdown",
   "metadata": {},
   "source": [
    "## 8. Additional variables: Choose two additional survey items you would like to investigate do steps  6 or 7 for those variables."
   ]
  },
  {
   "cell_type": "code",
   "execution_count": null,
   "metadata": {},
   "outputs": [],
   "source": [
    "# your code here"
   ]
  },
  {
   "cell_type": "markdown",
   "metadata": {},
   "source": [
    "## 9. Based on your initial data exploration, what are some hypotheses of what affects a person's health that you would like to further investigate?"
   ]
  },
  {
   "cell_type": "markdown",
   "metadata": {},
   "source": [
    "Type out your initial hyptotheses below:\n",
    "\n",
    "1. \n",
    "\n",
    "2. \n",
    "\n",
    "3.  "
   ]
  },
  {
   "cell_type": "markdown",
   "metadata": {},
   "source": [
    "## Bonus: Create some cool graphics.  "
   ]
  },
  {
   "cell_type": "code",
   "execution_count": null,
   "metadata": {},
   "outputs": [],
   "source": []
  }
 ],
 "metadata": {
  "kernelspec": {
   "display_name": "Python 3",
   "language": "python",
   "name": "python3"
  },
  "language_info": {
   "codemirror_mode": {
    "name": "ipython",
    "version": 3
   },
   "file_extension": ".py",
   "mimetype": "text/x-python",
   "name": "python",
   "nbconvert_exporter": "python",
   "pygments_lexer": "ipython3",
   "version": "3.7.3"
  }
 },
 "nbformat": 4,
 "nbformat_minor": 2
}
