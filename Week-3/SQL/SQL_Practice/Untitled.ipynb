{
 "cells": [
  {
   "cell_type": "code",
   "execution_count": null,
   "metadata": {},
   "outputs": [],
   "source": [
    "{'name': 'JP Rinfret',\n",
    "'dob': '1990-08-02',\n",
    "'birthplace': 'Manhasset, NY',\n",
    "'siblings' : 2,\n",
    "'years_in_nyc': 5.6,\n",
    "'favorite_food': 'breaded chicken cutlets'}"
   ]
  }
 ],
 "metadata": {
  "kernelspec": {
   "display_name": "Python 3",
   "language": "python",
   "name": "python3"
  },
  "language_info": {
   "codemirror_mode": {
    "name": "ipython",
    "version": 3
   },
   "file_extension": ".py",
   "mimetype": "text/x-python",
   "name": "python",
   "nbconvert_exporter": "python",
   "pygments_lexer": "ipython3",
   "version": "3.7.3"
  }
 },
 "nbformat": 4,
 "nbformat_minor": 2
}
